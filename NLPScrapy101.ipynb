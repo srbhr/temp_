{
 "cells": [
  {
   "cell_type": "markdown",
   "metadata": {
    "pycharm": {
     "name": "#%% md\n"
    }
   },
   "source": [
    "# Spacy 101"
   ]
  },
  {
   "cell_type": "code",
   "execution_count": 1,
   "metadata": {
    "collapsed": false,
    "jupyter": {
     "outputs_hidden": false
    },
    "pycharm": {
     "is_executing": false,
     "name": "#%%\n"
    }
   },
   "outputs": [],
   "source": [
    "import spacy"
   ]
  },
  {
   "cell_type": "code",
   "execution_count": 2,
   "metadata": {
    "collapsed": false,
    "jupyter": {
     "outputs_hidden": false
    },
    "pycharm": {
     "is_executing": false,
     "name": "#%%\n"
    }
   },
   "outputs": [],
   "source": [
    "nlp = spacy.load(\"en_core_web_lg\")"
   ]
  },
  {
   "cell_type": "code",
   "execution_count": 3,
   "metadata": {
    "collapsed": false,
    "jupyter": {
     "outputs_hidden": false
    },
    "pycharm": {
     "is_executing": false,
     "name": "#%%\n"
    }
   },
   "outputs": [],
   "source": [
    "doc = nlp(u\"\"\"This is a sentence it talks \n",
    "about potatoes, chips, America, Thousand and gold coins.\"\"\")"
   ]
  },
  {
   "cell_type": "markdown",
   "metadata": {},
   "source": [
    "ents loads the entities detected in the text."
   ]
  },
  {
   "cell_type": "code",
   "execution_count": 4,
   "metadata": {
    "collapsed": false,
    "jupyter": {
     "outputs_hidden": false
    },
    "pycharm": {
     "is_executing": false,
     "name": "#%%\n"
    }
   },
   "outputs": [
    {
     "name": "stdout",
     "output_type": "stream",
     "text": [
      "America GPE\n",
      "Thousand CARDINAL\n"
     ]
    }
   ],
   "source": [
    "for token in doc.ents:\n",
    "    print(token.text, token.label_ )"
   ]
  },
  {
   "cell_type": "code",
   "execution_count": 5,
   "metadata": {
    "collapsed": false,
    "jupyter": {
     "outputs_hidden": false
    },
    "pycharm": {
     "is_executing": false,
     "name": "#%%\n"
    }
   },
   "outputs": [
    {
     "data": {
      "text/plain": [
       "18108853898452662235"
      ]
     },
     "execution_count": 5,
     "metadata": {},
     "output_type": "execute_result"
    }
   ],
   "source": [
    "doc.vocab.strings[u\"sentence\"]"
   ]
  },
  {
   "cell_type": "code",
   "execution_count": 6,
   "metadata": {
    "collapsed": false,
    "jupyter": {
     "outputs_hidden": false
    },
    "pycharm": {
     "is_executing": false,
     "name": "#%%\n"
    }
   },
   "outputs": [
    {
     "data": {
      "text/plain": [
       "'sentence'"
      ]
     },
     "execution_count": 6,
     "metadata": {},
     "output_type": "execute_result"
    }
   ],
   "source": [
    "doc.vocab.strings[18108853898452662235]"
   ]
  },
  {
   "cell_type": "markdown",
   "metadata": {},
   "source": [
    "the underscore _ after values makes it into textual form, else without it, it'll be in numbers"
   ]
  },
  {
   "cell_type": "code",
   "execution_count": 7,
   "metadata": {
    "collapsed": false,
    "jupyter": {
     "outputs_hidden": false
    },
    "pycharm": {
     "is_executing": false,
     "name": "#%%\n"
    }
   },
   "outputs": [
    {
     "name": "stdout",
     "output_type": "stream",
     "text": [
      "This --- this --- DET DT nsubj Xxxx True True\n",
      "is --- be --- VERB VBZ ROOT xx True True\n",
      "a --- a --- DET DT det x True True\n",
      "sentence --- sentence --- NOUN NN attr xxxx True False\n",
      "it --- -PRON- --- PRON PRP nsubj xx True True\n",
      "talks --- talk --- VERB VBZ relcl xxxx True False\n",
      "\n",
      " --- \n",
      " --- SPACE _SP  \n",
      " False False\n",
      "about --- about --- ADP IN prep xxxx True True\n",
      "potatoes --- potato --- NOUN NNS pobj xxxx True False\n",
      ", --- , --- PUNCT , punct , False False\n",
      "chips --- chip --- NOUN NNS conj xxxx True False\n",
      ", --- , --- PUNCT , punct , False False\n",
      "America --- America --- PROPN NNP conj Xxxxx True False\n",
      ", --- , --- PUNCT , punct , False False\n",
      "Thousand --- Thousand --- PROPN NNP conj Xxxxx True False\n",
      "and --- and --- CCONJ CC cc xxx True True\n",
      "gold --- gold --- NOUN NN compound xxxx True False\n",
      "coins --- coin --- NOUN NNS conj xxxx True False\n",
      ". --- . --- PUNCT . punct . False False\n"
     ]
    }
   ],
   "source": [
    "for token in doc:\n",
    "    print(token.text,\"---\", token.lemma_,\"---\", token.pos_, token.tag_, token.dep_,\n",
    "            token.shape_, token.is_alpha, token.is_stop  )"
   ]
  },
  {
   "cell_type": "markdown",
   "metadata": {
    "jupyter": {
     "outputs_hidden": false
    },
    "pycharm": {
     "name": "#%%\n"
    }
   },
   "source": [
    "DispalCY visualizer"
   ]
  },
  {
   "cell_type": "code",
   "execution_count": 8,
   "metadata": {},
   "outputs": [],
   "source": [
    "# from spacy import displacy\n",
    "\n",
    "# displacy.serve(doc, style=\"ent\")"
   ]
  },
  {
   "cell_type": "code",
   "execution_count": 9,
   "metadata": {},
   "outputs": [],
   "source": [
    "import pandas as pd"
   ]
  },
  {
   "cell_type": "code",
   "execution_count": 10,
   "metadata": {},
   "outputs": [],
   "source": [
    "resume = pd.read_json(\"Dataset/resume_1.json\")"
   ]
  },
  {
   "cell_type": "code",
   "execution_count": 11,
   "metadata": {},
   "outputs": [
    {
     "data": {
      "text/plain": [
       "content    Abhishek Jha\\nApplication Development Associat...\n",
       "Name: Person 1, dtype: object"
      ]
     },
     "execution_count": 11,
     "metadata": {},
     "output_type": "execute_result"
    }
   ],
   "source": [
    "resume['Person 1'][:1]"
   ]
  },
  {
   "cell_type": "code",
   "execution_count": 12,
   "metadata": {},
   "outputs": [
    {
     "name": "stdout",
     "output_type": "stream",
     "text": [
      "Afreen Jamadar\n",
      "Active member of IIIT Committee in Third year\n",
      "\n",
      "Sangli, Maharashtra - Email me on Indeed: indeed.com/r/Afreen-Jamadar/8baf379b705e37c6\n",
      "\n",
      "I wish to use my knowledge, skills and conceptual understanding to create excellent team\n",
      "environments and work consistently achieving organization objectives believes in taking initiative\n",
      "and work to excellence in my work.\n",
      "\n",
      "WORK EXPERIENCE\n",
      "\n",
      "Active member of IIIT Committee in Third year\n",
      "\n",
      "Cisco Networking -  Kanpur, Uttar Pradesh\n",
      "\n",
      "organized by Techkriti IIT Kanpur and Azure Skynet.\n",
      "PERSONALLITY TRAITS:\n",
      "â€¢ Quick learning ability\n",
      "â€¢ hard working\n",
      "\n",
      "EDUCATION\n",
      "\n",
      "PG-DAC\n",
      "\n",
      "CDAC ACTS\n",
      "\n",
      "2017\n",
      "\n",
      "Bachelor of Engg in Information Technology\n",
      "\n",
      "Shivaji University Kolhapur -  Kolhapur, Maharashtra\n",
      "\n",
      "2016\n",
      "\n",
      "SKILLS\n",
      "\n",
      "Database (Less than 1 year), HTML (Less than 1 year), Linux. (Less than 1 year), MICROSOFT\n",
      "ACCESS (Less than 1 year), MICROSOFT WINDOWS (Less than 1 year)\n",
      "\n",
      "ADDITIONAL INFORMATION\n",
      "\n",
      "TECHNICAL SKILLS:\n",
      "\n",
      "â€¢ Programming Languages: C, C++, Java, .net, php.\n",
      "â€¢ Web Designing: HTML, XML\n",
      "â€¢ Operating Systems: Windows [â€¦] Windows Server 2003, Linux.\n",
      "â€¢ Database: MS Access, MS SQL Server 2008, Oracle 10g, MySql.\n",
      "\n",
      "https://www.indeed.com/r/Afreen-Jamadar/8baf379b705e37c6?isid=rex-download&ikw=download-top&co=IN\n"
     ]
    }
   ],
   "source": [
    "a = resume['Person 3'][:1]\n",
    "for iterator in a:\n",
    "    print(iterator)"
   ]
  },
  {
   "cell_type": "code",
   "execution_count": 13,
   "metadata": {},
   "outputs": [
    {
     "data": {
      "text/plain": [
       "Index(['Person 1', 'Person 2', 'Person 3', 'Person 4', 'Person 5', 'Person 6',\n",
       "       'Person 7', 'Person 8', 'Person 9', 'Person 10', 'Person 11',\n",
       "       'Person 12'],\n",
       "      dtype='object')"
      ]
     },
     "execution_count": 13,
     "metadata": {},
     "output_type": "execute_result"
    }
   ],
   "source": [
    "resume.columns"
   ]
  },
  {
   "cell_type": "code",
   "execution_count": 14,
   "metadata": {},
   "outputs": [],
   "source": [
    "empty = []\n",
    "for a in resume.columns:\n",
    "    empty.append(resume[a][:1])"
   ]
  },
  {
   "cell_type": "code",
   "execution_count": 15,
   "metadata": {},
   "outputs": [
    {
     "name": "stdout",
     "output_type": "stream",
     "text": [
      "content    Akhil Yadav Polemaina\\nHyderabad, Telangana - ...\n",
      "Name: Person 2, dtype: object\n"
     ]
    }
   ],
   "source": [
    "print(empty[1])"
   ]
  },
  {
   "cell_type": "code",
   "execution_count": 16,
   "metadata": {},
   "outputs": [
    {
     "data": {
      "text/plain": [
       "[content    Abhishek Jha\\nApplication Development Associat...\n",
       " Name: Person 1, dtype: object,\n",
       " content    Akhil Yadav Polemaina\\nHyderabad, Telangana - ...\n",
       " Name: Person 2, dtype: object,\n",
       " content    Afreen Jamadar\\nActive member of IIIT Committe...\n",
       " Name: Person 3, dtype: object,\n",
       " content    Alok Khandai\\nOperational Analyst (SQL DBA) En...\n",
       " Name: Person 4, dtype: object,\n",
       " content    Ananya Chavan\\nlecturer - oracle tutorials\\n\\n...\n",
       " Name: Person 5, dtype: object,\n",
       " content    Anvitha Rao\\nAutomation developer\\n\\n- Email m...\n",
       " Name: Person 6, dtype: object,\n",
       " content    arjun ks\\nSenior Program coordinator - oracle ...\n",
       " Name: Person 7, dtype: object,\n",
       " content    Ashalata Bisoyi\\nTransaction Processor - Oracl...\n",
       " Name: Person 8, dtype: object,\n",
       " content    Ashok Kunam\\nTeam Lead - Microsoft\\n\\n- Email ...\n",
       " Name: Person 9, dtype: object,\n",
       " content    Asish Ratha\\nSubject matter Expert - Accenture...\n",
       " Name: Person 10, dtype: object,\n",
       " content    Avin Sharma\\nSenior Associate Consultant - Inf...\n",
       " Name: Person 11, dtype: object,\n",
       " content    Ayesha B\\nTeam member - Oracle\\n\\nBangalore, K...\n",
       " Name: Person 12, dtype: object]"
      ]
     },
     "execution_count": 16,
     "metadata": {},
     "output_type": "execute_result"
    }
   ],
   "source": [
    "empty"
   ]
  },
  {
   "cell_type": "code",
   "execution_count": 17,
   "metadata": {},
   "outputs": [],
   "source": [
    "res = \"\"\n",
    "a = resume['Person 3'][:1]\n",
    "for iterator in a:\n",
    "    res+=iterator"
   ]
  },
  {
   "cell_type": "markdown",
   "metadata": {},
   "source": [
    "### Real Work from below this line "
   ]
  },
  {
   "cell_type": "code",
   "execution_count": 18,
   "metadata": {},
   "outputs": [],
   "source": [
    "rest = nlp(res)"
   ]
  },
  {
   "cell_type": "code",
   "execution_count": 19,
   "metadata": {},
   "outputs": [],
   "source": [
    "text = \"\"\n",
    "lists = []\n",
    "for token in rest:\n",
    "    if token.is_stop == False:\n",
    "        if token.pos_ in ['PROPN','NOUN','VERB']:\n",
    "            text += token.lemma_\n",
    "            text += \" \"\n",
    "            lists.append(token.lemma_)"
   ]
  },
  {
   "cell_type": "code",
   "execution_count": 20,
   "metadata": {},
   "outputs": [],
   "source": [
    "# import spacy\n",
    "\n",
    "# nlp = spacy.load(\"en_core_web_lg\")\n",
    "# doc = nlp(u\"Credit and mortgage account holders must submit their requests\")\n",
    "# span = doc[doc[4].left_edge.i : doc[4].right_edge.i+1]\n",
    "# with doc.retokenize() as retokenizer:\n",
    "#     retokenizer.merge(span)\n",
    "# for token in doc:\n",
    "#     print(token.text, token.pos_, token.dep_, token.head.text)"
   ]
  },
  {
   "cell_type": "code",
   "execution_count": 21,
   "metadata": {},
   "outputs": [
    {
     "name": "stdout",
     "output_type": "stream",
     "text": [
      "Afreen Jamadar member IIIT Committee year Sangli Maharashtra email wish use knowledge skill understanding create team environment work achieve organization objective believe take initiative work excellence work work EXPERIENCE member IIIT Committee year Cisco Networking Kanpur Uttar Pradesh organize Techkriti IIT Kanpur Azure Skynet PERSONALLITY trait learning ability work EDUCATION PG DAC CDAC ACTS Bachelor Engg Information Technology Shivaji University Kolhapur Kolhapur Maharashtra SKILLS Database year HTML year Linux year MICROSOFT access year MICROSOFT WINDOWS year INFORMATION TECHNICAL SKILLS programming language C C++ Java php web designing html xml operate system Windows Windows Server Linux database MS Access MS SQL Server Oracle g MySql \n"
     ]
    }
   ],
   "source": [
    "print(text)"
   ]
  },
  {
   "cell_type": "code",
   "execution_count": 22,
   "metadata": {},
   "outputs": [
    {
     "data": {
      "text/plain": [
       "['Afreen',\n",
       " 'Jamadar',\n",
       " 'member',\n",
       " 'IIIT',\n",
       " 'Committee',\n",
       " 'year',\n",
       " 'Sangli',\n",
       " 'Maharashtra',\n",
       " 'email',\n",
       " 'wish',\n",
       " 'use',\n",
       " 'knowledge',\n",
       " 'skill',\n",
       " 'understanding',\n",
       " 'create',\n",
       " 'team',\n",
       " 'environment',\n",
       " 'work',\n",
       " 'achieve',\n",
       " 'organization',\n",
       " 'objective',\n",
       " 'believe',\n",
       " 'take',\n",
       " 'initiative',\n",
       " 'work',\n",
       " 'excellence',\n",
       " 'work',\n",
       " 'work',\n",
       " 'EXPERIENCE',\n",
       " 'member',\n",
       " 'IIIT',\n",
       " 'Committee',\n",
       " 'year',\n",
       " 'Cisco',\n",
       " 'Networking',\n",
       " 'Kanpur',\n",
       " 'Uttar',\n",
       " 'Pradesh',\n",
       " 'organize',\n",
       " 'Techkriti',\n",
       " 'IIT',\n",
       " 'Kanpur',\n",
       " 'Azure',\n",
       " 'Skynet',\n",
       " 'PERSONALLITY',\n",
       " 'trait',\n",
       " 'learning',\n",
       " 'ability',\n",
       " 'work',\n",
       " 'EDUCATION',\n",
       " 'PG',\n",
       " 'DAC',\n",
       " 'CDAC',\n",
       " 'ACTS',\n",
       " 'Bachelor',\n",
       " 'Engg',\n",
       " 'Information',\n",
       " 'Technology',\n",
       " 'Shivaji',\n",
       " 'University',\n",
       " 'Kolhapur',\n",
       " 'Kolhapur',\n",
       " 'Maharashtra',\n",
       " 'SKILLS',\n",
       " 'Database',\n",
       " 'year',\n",
       " 'HTML',\n",
       " 'year',\n",
       " 'Linux',\n",
       " 'year',\n",
       " 'MICROSOFT',\n",
       " 'access',\n",
       " 'year',\n",
       " 'MICROSOFT',\n",
       " 'WINDOWS',\n",
       " 'year',\n",
       " 'INFORMATION',\n",
       " 'TECHNICAL',\n",
       " 'SKILLS',\n",
       " 'programming',\n",
       " 'language',\n",
       " 'C',\n",
       " 'C++',\n",
       " 'Java',\n",
       " 'php',\n",
       " 'web',\n",
       " 'designing',\n",
       " 'html',\n",
       " 'xml',\n",
       " 'operate',\n",
       " 'system',\n",
       " 'Windows',\n",
       " 'Windows',\n",
       " 'Server',\n",
       " 'Linux',\n",
       " 'database',\n",
       " 'MS',\n",
       " 'Access',\n",
       " 'MS',\n",
       " 'SQL',\n",
       " 'Server',\n",
       " 'Oracle',\n",
       " 'g',\n",
       " 'MySql']"
      ]
     },
     "execution_count": 22,
     "metadata": {},
     "output_type": "execute_result"
    }
   ],
   "source": [
    "lists"
   ]
  },
  {
   "cell_type": "code",
   "execution_count": 23,
   "metadata": {},
   "outputs": [],
   "source": [
    "doc2 = nlp(text)"
   ]
  },
  {
   "cell_type": "code",
   "execution_count": 24,
   "metadata": {},
   "outputs": [
    {
     "name": "stdout",
     "output_type": "stream",
     "text": [
      "Jamadar PERSON\n",
      "IIIT Committee ORG\n",
      "Sangli Maharashtra PERSON\n",
      "IIIT Committee ORG\n",
      "Cisco Networking Kanpur ORG\n",
      "Azure Skynet PERSONALLITY ORG\n",
      "Bachelor Engg Information Technology Shivaji University ORG\n",
      "Kolhapur GPE\n",
      "Maharashtra SKILLS Database ORG\n",
      "Linux year ORG\n",
      "MICROSOFT ORG\n",
      "year DATE\n",
      "MICROSOFT ORG\n",
      "C C++ Java PRODUCT\n",
      "Windows Windows Server Linux database MS Access MS SQL Server Oracle g MySql PRODUCT\n"
     ]
    }
   ],
   "source": [
    "for token in doc2.ents:\n",
    "    print(token.text, token.label_)"
   ]
  },
  {
   "cell_type": "code",
   "execution_count": 25,
   "metadata": {},
   "outputs": [
    {
     "name": "stdout",
     "output_type": "stream",
     "text": [
      "C C++ Java PRODUCT\n",
      "Windows Windows Server Linux database MS Access MS SQL Server Oracle g MySql PRODUCT\n"
     ]
    }
   ],
   "source": [
    "for token in doc2.ents:\n",
    "    if token.label_ in ['PRODUCT']:\n",
    "        print(token.text, token.label_)"
   ]
  },
  {
   "cell_type": "code",
   "execution_count": null,
   "metadata": {},
   "outputs": [],
   "source": []
  }
 ],
 "metadata": {
  "kernelspec": {
   "display_name": "Python 3",
   "language": "python",
   "name": "python3"
  },
  "language_info": {
   "codemirror_mode": {
    "name": "ipython",
    "version": 3
   },
   "file_extension": ".py",
   "mimetype": "text/x-python",
   "name": "python",
   "nbconvert_exporter": "python",
   "pygments_lexer": "ipython3",
   "version": "3.6.7"
  },
  "pycharm": {
   "stem_cell": {
    "cell_type": "raw",
    "metadata": {
     "collapsed": false
    },
    "source": []
   }
  }
 },
 "nbformat": 4,
 "nbformat_minor": 4
}
